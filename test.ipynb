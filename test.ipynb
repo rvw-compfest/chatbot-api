{
 "cells": [
  {
   "cell_type": "code",
   "execution_count": 1,
   "id": "334a2d85",
   "metadata": {},
   "outputs": [],
   "source": [
    "import chromadb\n",
    "\n",
    "from langchain_community.embeddings import OllamaEmbeddings, HuggingFaceEmbeddings\n",
    "from langchain_community.vectorstores import Chroma\n",
    "from langchain.chains.question_answering import load_qa_chain\n",
    "from langchain.vectorstores import Chroma\n",
    "from langchain_community.llms import Ollama    \n",
    "from langchain.prompts import ChatPromptTemplate"
   ]
  },
  {
   "cell_type": "code",
   "execution_count": 2,
   "id": "dd1eda27",
   "metadata": {},
   "outputs": [
    {
     "name": "stderr",
     "output_type": "stream",
     "text": [
      "c:\\Users\\50272\\anaconda3\\envs\\law_chatbot\\lib\\site-packages\\langchain_core\\_api\\deprecation.py:141: LangChainDeprecationWarning: The class `HuggingFaceEmbeddings` was deprecated in LangChain 0.2.2 and will be removed in 0.3.0. An updated version of the class exists in the langchain-huggingface package and should be used instead. To use it run `pip install -U langchain-huggingface` and import as `from langchain_huggingface import HuggingFaceEmbeddings`.\n",
      "  warn_deprecated(\n",
      "c:\\Users\\50272\\anaconda3\\envs\\law_chatbot\\lib\\site-packages\\sentence_transformers\\cross_encoder\\CrossEncoder.py:11: TqdmWarning: IProgress not found. Please update jupyter and ipywidgets. See https://ipywidgets.readthedocs.io/en/stable/user_install.html\n",
      "  from tqdm.autonotebook import tqdm, trange\n",
      "c:\\Users\\50272\\anaconda3\\envs\\law_chatbot\\lib\\site-packages\\langchain_core\\_api\\deprecation.py:141: LangChainDeprecationWarning: The class `Chroma` was deprecated in LangChain 0.2.9 and will be removed in 0.4. An updated version of the class exists in the langchain-chroma package and should be used instead. To use it run `pip install -U langchain-chroma` and import as `from langchain_chroma import Chroma`.\n",
      "  warn_deprecated(\n"
     ]
    }
   ],
   "source": [
    "db = Chroma(\n",
    "        persist_directory=\"chroma\",\n",
    "        embedding_function=HuggingFaceEmbeddings(\n",
    "            model_name=\"intfloat/multilingual-e5-small\",\n",
    "            model_kwargs={'device': 'cpu'}\n",
    "        )\n",
    "    )\n",
    "\n",
    "retriever = db.as_retriever()"
   ]
  },
  {
   "cell_type": "code",
   "execution_count": 7,
   "id": "3264fc66",
   "metadata": {},
   "outputs": [],
   "source": [
    "from langchain.chains import RetrievalQA\n",
    "\n",
    "\n",
    "model_name = \"aya\"\n",
    "llm = Ollama(model=model_name)\n",
    "chain = RetrievalQA.from_llm(llm=llm, \n",
    "                    retriever=retriever\n",
    "                    )"
   ]
  },
  {
   "cell_type": "code",
   "execution_count": null,
   "id": "2a29e468",
   "metadata": {},
   "outputs": [],
   "source": [
    "from langchain.chains import create_retrieval_chain\n",
    "from langchain.chains.combine_documents import create_stuff_documents_chain\n",
    "from langchain_core.prompts import ChatPromptTemplate\n",
    "\n",
    "llm = Ollama(model=\"aya\")\n",
    "\n",
    "system_prompt = (\n",
    "    \"Gunakan konteks yang diberikan untuk menjawab pertanyaan. \"\n",
    "    \"Kalau anda tidak tahu jawabannya, cukup jawab dengan Maaf, saya tidak tahu. \"\n",
    "    \"Jawaban harus terdiri dari minimal tiga paragraf. \"\n",
    "    \"Konteks: {context}\"\n",
    ")\n",
    "prompt = ChatPromptTemplate.from_messages(\n",
    "    [\n",
    "        (\"system\", system_prompt),\n",
    "        (\"human\", \"{input}\"),\n",
    "    ]\n",
    ")\n",
    "question_answer_chain = create_stuff_documents_chain(llm, prompt)\n",
    "chain = create_retrieval_chain(retriever, question_answer_chain)\n",
    "\n",
    "query = \"Apa tugas dan wewenang MK?\"\n",
    "\n",
    "chain.invoke({\"input\": query})"
   ]
  },
  {
   "cell_type": "code",
   "execution_count": 14,
   "id": "07dc6876",
   "metadata": {},
   "outputs": [],
   "source": [
    "PROMPT_TEMPLATE = \"\"\"\n",
    "Anda adalah seorang paralegal hukum AI. Gunakan konteks berikut\n",
    "untuk menjawab pertanyaan yang diberikan.\n",
    "\n",
    "{context}\n",
    "\n",
    "---\n",
    "\n",
    "Pertanyaan: {question}\n",
    "Jawaban yang anda berikan harus jelas dan minimal terdiri dari 2 paragraf.\n",
    "Jika anda tidak tahu jawabannya, cukup jawab dengan \"Maaf, saya tidak tahu\".\n",
    "\"\"\""
   ]
  },
  {
   "cell_type": "code",
   "execution_count": 21,
   "id": "b0502656",
   "metadata": {},
   "outputs": [],
   "source": [
    "system_prompt = (\n",
    "    \"You are an assistant for question-answering tasks. \"\n",
    "    \"Use the following pieces of retrieved context to answer \"\n",
    "    \"the question. If you don't know the answer, say that you \"\n",
    "    \"don't know. Use three sentences maximum and keep the \"\n",
    "    \"answer concise. Provide the answer in Indonesian Language.\"\n",
    "    \"\\n\\n\"\n",
    "    \"{context}\"\n",
    ")"
   ]
  },
  {
   "cell_type": "code",
   "execution_count": 22,
   "id": "d3c5a099",
   "metadata": {},
   "outputs": [],
   "source": [
    "prompt = ChatPromptTemplate.from_messages(\n",
    "    [\n",
    "        (\"system\", system_prompt),\n",
    "        (\"human\", \"{input}\"),\n",
    "    ]\n",
    ")"
   ]
  },
  {
   "cell_type": "code",
   "execution_count": 24,
   "id": "fd383a40",
   "metadata": {},
   "outputs": [],
   "source": [
    "from langchain.chains import create_retrieval_chain\n",
    "from langchain.chains.combine_documents import create_stuff_documents_chain\n",
    "\n",
    "question_answer_chain = create_stuff_documents_chain(llm, prompt)\n",
    "rag_chain = create_retrieval_chain(retriever, question_answer_chain)"
   ]
  },
  {
   "cell_type": "code",
   "execution_count": 28,
   "id": "b2fba204",
   "metadata": {},
   "outputs": [
    {
     "name": "stdout",
     "output_type": "stream",
     "text": [
      "{'input': 'Siapa kiper timnas Prancis saat ini?', 'context': [Document(metadata={'page': 0, 'source': '/content/PP/2020/Peraturan Pemerintah Nomor 41 Tahun 20200_fix.pdf'}, page_content='LEMBARAN NEGARA \\nREPUBLIK INDONESIA \\nNo. 181, 2020  ADMINISTRASI. Pengalihan Pegawai KPK . Pegawai \\nASN.  \\n \\nPERATURAN PEMERINTAH REPUBLIK INDONESIA  \\nNOMOR 41 TAHUN 2020 \\nTENTANG \\nPENGALIHAN PEGAWAI KOMISI PEMBERANTASAN TINDAK PIDANA \\nKORUPSI MENJADI PEGAWAI APARATUR SIPIL NEGARA \\n  \\nDENGAN RAHMAT TUHAN YANG MAHA ESA  \\n \\nPRESIDEN REPUBLIK INDONESIA, \\n \\n \\nMenimbang : a. bahwa Komisi Pemberantasan Tindak Pidana Korupsi \\nsebagai lembaga negara dalam rumpun kekuasaan \\neksekutif yang melaksanakan tugas pencegahan dan \\npemberantasan Tindak Pidana Korupsi, dalam \\npelaksanaan tugasnya perlu mendapatkan dukungan \\ndari Aparatur Sipil Negara; \\nb. bahwa untuk menindaklanjuti Pasal 1 angka 6, Pasal \\n69B, dan Pasal 69C Undang-Undang Nomor 30 Tahun \\n2002 tentang Komisi Pemberantasan Tindak Pidana \\nKorupsi sebagaimana telah be berapa kali diubah \\nterakhir dengan Undang-Undang Nomor 19 Tahun \\n2019 tentang Perubahan Kedua Atas Undang-Undang \\nNomor 30 Tahun 2002 tentang Komisi Pemberantasan \\nTindak Pidana Korupsi, Pegawai Komisi \\nPemberantasan Tindak Pidana Korups i yang belum \\nberstatus sebagai Pegawai Aparatur Sipil Negara dalam \\njangka waktu paling lama 2 (dua) tahun dapat \\ndiangkat menjadi Pegawai Aparatur Sipil Negara sesuai \\ndengan ketentuan peraturan perundang-undangan;'), Document(metadata={'page': 1, 'source': '/content/PP/2020/Peraturan Pemerintah Nomor 41 Tahun 20200_fix.pdf'}, page_content='2020 , No. 181 -2- \\nc. bahwa berdasarkan pertimbangan sebagaimana \\ndimaksud dalam huruf a dan huruf b, perlu \\nmenetapkan Peraturan Pemerintah tentang Pengalihan \\nPegawai Komisi Pemberantasan Tindak Pidana Korupsi \\nMenjadi Pegawai Aparatur Sipil Negara;  \\n \\nMengingat : 1. Undang-Undang Nomor 30 Tahun 2002 tentang \\nKomisi Pemberantasan Tindak Pidana Ko rupsi  \\n(Lembaran Negara Republik Indonesia Tahun  2002 \\nNomor 137, Tambahan Lembaran Negara Republik \\nIndonesia Nomor 4250) sebagaimana telah beberapa \\nkali diubah terakhir dengan Undang-Undang Nomor \\n19 Tahun 2019 tentang Perubahan Kedua atas \\nUndang-Undang Nomor 30 Tahun 2002 tentang \\nKomisi Pemberantasan Tindak Pidana Korupsi \\n(Lembaran Negara Republik Indonesia Tahun 2019 \\nNomor 197, Tambahan Lembaran Negara Republik \\nIndonesia Nomor 6409 ); \\n2. Undang-Undang Nomor 5 Tahun 2014 tentang \\nAparatur Sipil Negara (Lembaran Negara Republik \\nIndonesia Tahun 2014 Nomor 6, Tambahan Lembaran \\nNegara Republik Indonesia Nomor 5494); \\n3. Peraturan Pemerintah Nomor 11 Tahun 2017 tentang \\nManajemen Pegawai Negeri Sipil (Lembaran Negara \\nRepublik Indonesia Tahun 2017 Nomor 63, Tambahan \\nLembara n Negara Republik Indonesia Nomor 6037) \\nsebagaimana telah diubah dengan Peraturan \\nPemerintah Nomor 17 Tahun 2020 tentang Perubahan \\nAtas Peraturan Pemerintah Nomor 11 Tahun 2017 \\ntentang Manajemen Pegawai Negeri Sipil (Lembaran \\nNegara Republik Indonesia Tahun 2020 Nomor 68, \\nTambahan Lembaran Negara Republik Indonesia \\nNomor 6477); \\n4. Peraturan Pemerintah Nomor 49 Tahun 2018 tentang \\nManajemen Pegawai Pemerintah dengan Perjanjian \\nKerja (Lembaran Negara Republik Indonesia Tahun'), Document(metadata={'page': 21, 'source': '/content/PP/2018/Peraturan Pemerintah Nomor 32 Tahun 20180_fix.pdf'}, page_content='2018, No. 106 -22- \\nParagraf 11 \\nAparatur Sipil Negara, Anggota Tentara Nasional Indonesia , \\nAnggota Kepolisian Negara Republik Indonesia, Direksi, \\nAnggota Dewan Komisaris, Anggota Dewan Pengawas dan \\nKaryawan pada Badan Usaha Milik Negara  \\ndan Badan Usaha Milik Daerah \\n \\nPasal 28 \\n(1) Ketentuan mengenai tata cara pengunduran diri \\naparatur sipil negara, anggota Tentara Nasional \\nIndonesia, anggota Kepolisian Negara Republik \\nIndonesia, direksi, anggota dewan komisaris, anggota \\ndewan pengawas, atau karyawan pada badan usaha \\nmilik negara atau badan usaha milik daerah \\nsebagaimana dimaksud dalam Pasal 9 sampai dengan \\nPasal 15 berlaku secara mutatis mutandis terhadap \\nketentuan tata cara pengunduran diri aparatur sipil \\nnegara, anggota Tentara Nasional Indonesia, anggota \\nKepolisian Negara Republik Indonesia, direksi, anggota \\ndewan komisaris, anggota dewan pengawas, atau \\nkaryawan pada badan usaha milik negara atau badan \\nusaha milik daerah yang mencalonkan diri sebagai \\nPresiden atau Wakil Presiden .  \\n(2) Aparatur sipil negara, anggota Tentara Nasional \\nIndonesia, anggota Kepolisian Negara Republik \\nIndonesia, direksi, anggota dewan komisaris, anggota \\ndewan pengawas, atau karyawan pada badan usaha \\nmilik negara atau badan usaha milik daerah \\nsebagaimana dimaksud pada ayat (1) tidak lagi \\nmemiliki status beserta hak dan kewenangannya sejak \\nditetapkan sebagai pasangan calon Presiden dan Wakil \\nPresiden. \\n \\n \\n \\n \\n \\nwww.peraturan.go.id'), Document(metadata={'page': 1, 'source': '/content/PP/2015/Peraturan Pemerintah Nomor 54 Tahun 20150_fix.pdf'}, page_content='No.57232\\npengaruhnya. Pola baru ini melahirkan penyelenggaraan perguruan\\ntinggi yang mengandalkan pengambilan keputusan berbasis kebijakan\\nstrategis, standarisasi mutu, akreditisasi, akuntabilitas, efisie nsi dan\\nsentralisasi manajemen. Keadaan tersebut dimungkinkan melalui\\notonomilebihbesarpadaperguruantinggi.\\nPerspektif dunia pun berubah dari bagian yang terpisah -pisah\\nmenjadi area yang menyatu. Penyatuan ini menyebabkan pula\\nterjadinya pertukaran sumber daya termasuk sumber daya manusia\\nsecaratanpabatas. Padatahun 2015,Indonesiaselakupenandatangan\\nAseanFreeTradeAreaakan menjadi pasar terbuka untuk Asean\\nEconomicCommunity (AEC) dan pada tahun 2020 Indonesia harus siap\\ndengan pemberlakuan WorldTradeOrganization secara penuh, dimana\\npasar terbuka dunia akan berlaku. Hal ini menyebabkan tingkat\\npersaingan para lulusan perguruan tinggi menjadi lebih kompetitif dan\\ntanpabataswilayah (borderless)denganpenekananpadaisu -isudunia\\ntertentu.Untuk menjawab ini, Indonesia telah memiliki konsep\\nKerangka Kualifikasi Nasional Indonesia (KKNI )melalui Peraturan\\nPresiden Nomor 8 Tahun 2012 tentangKerangka Kualifikasi Nasional\\nIndonesia.Dengandemikian,perguruantinggiselakupencetaksumber\\ndaya manusia harus mampu memenuhi kualifikasi tuntutan pasar\\nsesuaiKKNI yang telah ditetapkan dan harus adaptif. Sifat adaptif ini\\ndiperlukan untuk memenangkan persaingan, merespon pasar bagi\\npemukhtahirankeilmuaanmaupunberkontribusidalampembangunan\\ndanpembangunanperadabanumatmanusia.\\nBerdirinya ITS s ebagai perguruan tinggi diawali dengan\\ndidirikannya Perguruan Tin ggi Teknik Sepuluh Nopember (PTT10N)\\npada10Nopember1957olehPresidenPertamaRepublikIndonesia,Dr.\\nIr Soekarno. Dalam perkembangannya, PTT10N ini berubah menjadi\\nInstitut Teknologi 10 Nopember yang ditetapkan sebagai perguruan\\ntinggi negeri dan berla ku mulai tanggal 3 Nopember 1960 sesuai\\ndengan ketentuan Peraturan Pemerintah No mor9 Tahun 1961 tentang\\nPendirian Institut Teknologi 10 Nopember di Surabaya. Dalam\\nperesmian PTT10N, Dr. Ir. Soekarno mengungkapkan “pokok dari\\nsegala pokok ialah mental inve stment” (Amanat P.J.M Presiden\\nSoekarno, dalam peresmian PTT10N). Dengan penekanan pada mental\\ninvestment, ITS memiliki tanggung jawab untuk berkontribusi\\nmembangun s umberdayamanusiadalam pengembangan ilmu\\npengetahuan dan teknologi untuk menyejahterakan masyarakat,\\nmemajukan negara,danmeningkatkannilaikemanusiaan.\\nDalam kondisi kekinian, ITS telah berkembang dengan memiliki\\n6(enam)Fakultas yang mencakup matematika dan ilmu alam,')], 'answer': 'Tidak tahu.'}\n"
     ]
    }
   ],
   "source": [
    "response = rag_chain.invoke({\"input\": \"Siapa kiper timnas Prancis saat ini?\"})\n",
    "\n",
    "print(response)"
   ]
  },
  {
   "cell_type": "code",
   "execution_count": 15,
   "id": "50f175df",
   "metadata": {},
   "outputs": [],
   "source": [
    "\n",
    "def get_llm_response(query):    \n",
    "    # result = retriever.invoke(input=query)\n",
    "    result = db.similarity_search(query, k=5)\n",
    "\n",
    "    context = \"\\n\\n---\\n\\n\".join([doc.page_content for doc in result])\n",
    "    \n",
    "    template = ChatPromptTemplate.from_template(PROMPT_TEMPLATE)\n",
    "    prompt = template.format(context=context, question=query)\n",
    "    \n",
    "    answer = chain.invoke({\n",
    "        \"input_documents\": result,\n",
    "        \"query\": prompt\n",
    "    })\n",
    "    \n",
    "    response = {\n",
    "        \"response\": answer['result'],\n",
    "    }\n",
    "\n",
    "    return answer"
   ]
  },
  {
   "cell_type": "code",
   "execution_count": 17,
   "id": "6bc2e741",
   "metadata": {},
   "outputs": [
    {
     "data": {
      "text/plain": [
       "{'input_documents': [Document(metadata={'page': 0, 'source': '/content/UUD/1945/Undang-Undang Dasar Republik Indonesia Tahun 1945_fix.pdf'}, page_content='UNDANG -UNDANG DASAR NEGARA REPUBLIK INDONESIA\\nTAHUN 1945\\nPEMBUKAAN\\n( P r e a m b u l e )\\nBahwa sesungguhnya kemerdekaan itu ialah hak segala bangsa dan oleh sebab itu,\\nmaka penjajahan di atas dunia harus dihapuskan, karena tida k sesuai dengan peri -\\nkemanusiaan dan peri -keadilan.\\nDan perjuangan pergerakan kemerdekaan Indonesia telah sam pailah kepada saat\\nyang berbahagia dengan selamat sentausa mengantarkan raky at Indonesia ke depan\\npintu gerbang kemerdekaan Negara Indonesia, yang merdeka, bersatu, berdaulat, adil\\ndan makmur.\\nAtas berkat rakhmat Allah Yang Maha Kuasa dan dengan didoron gkan oleh keinginan\\nluhur, supaya berkehidupan kebangsaan yang bebas, maka rak yat Indonesia menyatakan\\ndengan ini kemerdekaannya.\\nKemudian dari pada itu untuk membentuk suatu Pemerintah Neg ara Indonesia yang\\nmelindungi segenap bangsa Indonesia dan seluruh tumpah dar ah Indonesia dan untuk\\nmemaju kan kesejahteraan umum, mencerdaskan kehidupan bangsa, da n ikut\\nmelaksanakan ketertiban dunia yang berdasarkan kemerdeka an, perdamaian abadi dan\\nkeadilan sosial, maka disusunlah Kemerdekaan Kebangsaan I ndonesia itu dalam suatu\\nUndang -Undang Dasar Negara In donesia, yang terbentuk dalam suatu susunan Negara\\nRepublik Indonesia yang berkedaulatan rakyat dengan berda sarkan kepada Ketuhanan\\nYang Maha Esa, Kemanusiaan Yang Adil dan Beradab, Persatuan Indonesia dan\\nK e r a k y a t a n y a n g d i p i m p i n o l e h h i k m a t k e b i j a k s a n a a n d a l a m\\nPermusyawaratan/Perwakilan, serta dengan mewujudkan sua tu Keadilan sosial bagi\\nseluruh rakyat Indonesia.\\nUNDANG -UNDANG DASAR\\nBAB I\\nBENTUK DAN KEDAULATAN\\nPasal 1\\n(1)Negara Indonesia ialah Negara Kesatuan, yang berbentuk Rep ublik.\\n(2)Kedaulatan adalah di tangan rakyat, dan dilakukan sepenuhn ya oleh Majelis\\nPermusyawaratan Rakyat.\\nwww.peraturan.go.id'),\n",
       "  Document(metadata={'page': 431, 'source': '/content/PP/2015/Peraturan Pemerintah Nomor 33 Tahun 20150_fix.pdf'}, page_content='2015,No.126432\\nwww.peraturan.go.id'),\n",
       "  Document(metadata={'page': 531, 'source': '/content/PP/2015/Peraturan Pemerintah Nomor 34 Tahun 20150_fix.pdf'}, page_content='2015,No.127532\\nwww.peraturan.go.id'),\n",
       "  Document(metadata={'page': 431, 'source': '/content/PP/2015/Peraturan Pemerintah Nomor 34 Tahun 20150_fix.pdf'}, page_content='2015,No.127432\\nwww.peraturan.go.id'),\n",
       "  Document(metadata={'page': 509, 'source': '/content/PP/2015/Peraturan Pemerintah Nomor 34 Tahun 20150_fix.pdf'}, page_content='2015,No.127510\\nwww.peraturan.go.id')],\n",
       " 'query': 'Human: \\nAnda adalah seorang paralegal hukum AI. Gunakan konteks berikut\\nuntuk menjawab pertanyaan yang diberikan.\\n\\nUNDANG -UNDANG DASAR NEGARA REPUBLIK INDONESIA\\nTAHUN 1945\\nPEMBUKAAN\\n( P r e a m b u l e )\\nBahwa sesungguhnya kemerdekaan itu ialah hak segala bangsa dan oleh sebab itu,\\nmaka penjajahan di atas dunia harus dihapuskan, karena tida k sesuai dengan peri -\\nkemanusiaan dan peri -keadilan.\\nDan perjuangan pergerakan kemerdekaan Indonesia telah sam pailah kepada saat\\nyang berbahagia dengan selamat sentausa mengantarkan raky at Indonesia ke depan\\npintu gerbang kemerdekaan Negara Indonesia, yang merdeka, bersatu, berdaulat, adil\\ndan makmur.\\nAtas berkat rakhmat Allah Yang Maha Kuasa dan dengan didoron gkan oleh keinginan\\nluhur, supaya berkehidupan kebangsaan yang bebas, maka rak yat Indonesia menyatakan\\ndengan ini kemerdekaannya.\\nKemudian dari pada itu untuk membentuk suatu Pemerintah Neg ara Indonesia yang\\nmelindungi segenap bangsa Indonesia dan seluruh tumpah dar ah Indonesia dan untuk\\nmemaju kan kesejahteraan umum, mencerdaskan kehidupan bangsa, da n ikut\\nmelaksanakan ketertiban dunia yang berdasarkan kemerdeka an, perdamaian abadi dan\\nkeadilan sosial, maka disusunlah Kemerdekaan Kebangsaan I ndonesia itu dalam suatu\\nUndang -Undang Dasar Negara In donesia, yang terbentuk dalam suatu susunan Negara\\nRepublik Indonesia yang berkedaulatan rakyat dengan berda sarkan kepada Ketuhanan\\nYang Maha Esa, Kemanusiaan Yang Adil dan Beradab, Persatuan Indonesia dan\\nK e r a k y a t a n y a n g d i p i m p i n o l e h h i k m a t k e b i j a k s a n a a n d a l a m\\nPermusyawaratan/Perwakilan, serta dengan mewujudkan sua tu Keadilan sosial bagi\\nseluruh rakyat Indonesia.\\nUNDANG -UNDANG DASAR\\nBAB I\\nBENTUK DAN KEDAULATAN\\nPasal 1\\n(1)Negara Indonesia ialah Negara Kesatuan, yang berbentuk Rep ublik.\\n(2)Kedaulatan adalah di tangan rakyat, dan dilakukan sepenuhn ya oleh Majelis\\nPermusyawaratan Rakyat.\\nwww.peraturan.go.id\\n\\n---\\n\\n2015,No.126432\\nwww.peraturan.go.id\\n\\n---\\n\\n2015,No.127532\\nwww.peraturan.go.id\\n\\n---\\n\\n2015,No.127432\\nwww.peraturan.go.id\\n\\n---\\n\\n2015,No.127510\\nwww.peraturan.go.id\\n\\n---\\n\\nPertanyaan: Apa inti dari pembukaan UUD 1945 Bait ke dua?\\nJawaban yang anda berikan harus jelas dan minimal terdiri dari 2 paragraf.\\nJika anda tidak tahu jawabannya, cukup jawab dengan \"Maaf, saya tidak tahu\".\\n',\n",
       " 'result': 'Pada bagian kedua pembukaan UUD 1945, terdapat pernyataan bahwa perjuangan pergerakan kemerdekaan Indonesia telah mencapai saat yang berbahagia dengan selamat sentausa mengantarkan raky at Indonesia ke depan pintu gerbang kemerdeka an Negara Indonesia. Kemudian, terdapat sebuah kalimat yang menyatakan berkat dari Allah Yang Maha Kuasa dan keinginan dari para leluhur untuk berkehidupan kebangsaan yang bebas. Kedua hal ini menunjukkan pengakuan atas perjuangan dan keberhasilan pergerakan kemerdekaan, serta menekankan pentingnya kebebasan dan kemerdekaan dalam kehidupan bangsa.'}"
      ]
     },
     "execution_count": 17,
     "metadata": {},
     "output_type": "execute_result"
    }
   ],
   "source": [
    "query = \"Apa inti dari pembukaan UUD 1945 Bait ke dua?\"\n",
    "\n",
    "get_llm_response(query)"
   ]
  },
  {
   "cell_type": "code",
   "execution_count": 20,
   "id": "ed55f86e",
   "metadata": {},
   "outputs": [
    {
     "data": {
      "text/plain": [
       "{'input_documents': [Document(metadata={'page': 4, 'source': '/content/UUD/1945/Undang-Undang Dasar Republik Indonesia Tahun 1945_fix.pdf'}, page_content='BAB VI\\nPEMERINTAH DAERAH\\nPasal 18\\nPembagian daerah Indonesia atas daerah be sar dan kecil, dengan bentuk susunan\\npemerintahannya ditetapkan dengan undang -undang, dengan memandang dan\\nmengingati dasar permusyawaratan dalam sistem pemerintah an negara, dan hak -hak\\nasal-usul dalam daerah -daerah yang bersifat istimewa.\\nBAB VII\\nDEWAN PE RWAKILAN RAKYAT\\nPasal 19\\n(1)Susunan Dewan Perwakilan Rakyat ditetapkan dengan undang -undang.\\n(2)Dewan Perwakilan Rakyat bersidang sedikitnya sekali dalam setahun.\\nPasal 20\\n(1)Tiap-tiap undang -undang menghendaki persetujuan Dewan Perwakilan Rakyat.\\n(2)Jika sesuatu rancangan undang -undang tidak mendapat persetujuan Dewan\\nPerwakilan Rakyat, maka rancangan tadi tidak boleh dimajuk an lagi dalam\\npersidangan Dewan Perwakilan Rakyat masa itu.\\nPasal 21\\n(1)Anggota -anggota Dewan Perwakilan Rakyat berhak memaju kan rancangan undang -\\nundang.\\n(2)Jika rancangan itu, meskipun disetujui oleh Dewan Perwakil an Rakyat, tidak disahkan\\noleh Presiden, maka rancangan tadi tidak boleh dimajukan la gi dalam persidangan\\nDewan Perwakilan Rakyat masa itu.\\nPasal 22\\n(1)Dalam hal ihwa l kegentingan yang memaksa, Presiden berhak menetapkan per aturan\\npemerintah sebagai pengganti undang -undang.\\n(2)Peraturan pemerintah itu harus mendapat persetujuan Dewan Perwakilan Rakyat\\ndalam persidangan yang berikut.\\n(3)Jika tidak mendapat persetujuan, maka p eraturan pemerintah itu harus dicabut.\\nwww.peraturan.go.id'),\n",
       "  Document(metadata={'page': 0, 'source': '/content/UUD/1945/Undang-Undang Dasar Republik Indonesia Tahun 1945_fix.pdf'}, page_content='UNDANG -UNDANG DASAR NEGARA REPUBLIK INDONESIA\\nTAHUN 1945\\nPEMBUKAAN\\n( P r e a m b u l e )\\nBahwa sesungguhnya kemerdekaan itu ialah hak segala bangsa dan oleh sebab itu,\\nmaka penjajahan di atas dunia harus dihapuskan, karena tida k sesuai dengan peri -\\nkemanusiaan dan peri -keadilan.\\nDan perjuangan pergerakan kemerdekaan Indonesia telah sam pailah kepada saat\\nyang berbahagia dengan selamat sentausa mengantarkan raky at Indonesia ke depan\\npintu gerbang kemerdekaan Negara Indonesia, yang merdeka, bersatu, berdaulat, adil\\ndan makmur.\\nAtas berkat rakhmat Allah Yang Maha Kuasa dan dengan didoron gkan oleh keinginan\\nluhur, supaya berkehidupan kebangsaan yang bebas, maka rak yat Indonesia menyatakan\\ndengan ini kemerdekaannya.\\nKemudian dari pada itu untuk membentuk suatu Pemerintah Neg ara Indonesia yang\\nmelindungi segenap bangsa Indonesia dan seluruh tumpah dar ah Indonesia dan untuk\\nmemaju kan kesejahteraan umum, mencerdaskan kehidupan bangsa, da n ikut\\nmelaksanakan ketertiban dunia yang berdasarkan kemerdeka an, perdamaian abadi dan\\nkeadilan sosial, maka disusunlah Kemerdekaan Kebangsaan I ndonesia itu dalam suatu\\nUndang -Undang Dasar Negara In donesia, yang terbentuk dalam suatu susunan Negara\\nRepublik Indonesia yang berkedaulatan rakyat dengan berda sarkan kepada Ketuhanan\\nYang Maha Esa, Kemanusiaan Yang Adil dan Beradab, Persatuan Indonesia dan\\nK e r a k y a t a n y a n g d i p i m p i n o l e h h i k m a t k e b i j a k s a n a a n d a l a m\\nPermusyawaratan/Perwakilan, serta dengan mewujudkan sua tu Keadilan sosial bagi\\nseluruh rakyat Indonesia.\\nUNDANG -UNDANG DASAR\\nBAB I\\nBENTUK DAN KEDAULATAN\\nPasal 1\\n(1)Negara Indonesia ialah Negara Kesatuan, yang berbentuk Rep ublik.\\n(2)Kedaulatan adalah di tangan rakyat, dan dilakukan sepenuhn ya oleh Majelis\\nPermusyawaratan Rakyat.\\nwww.peraturan.go.id'),\n",
       "  Document(metadata={'page': 326, 'source': '/content/PP/2015/Peraturan Pemerintah Nomor 34 Tahun 20150_fix.pdf'}, page_content='2015,No.127327\\nwww.peraturan.go.id'),\n",
       "  Document(metadata={'page': 325, 'source': '/content/PP/2015/Peraturan Pemerintah Nomor 34 Tahun 20150_fix.pdf'}, page_content='2015,No.127326\\nwww.peraturan.go.id'),\n",
       "  Document(metadata={'page': 1, 'source': '/content/UUD/1945/Undang-Undang Dasar Republik Indonesia Tahun 1945_fix.pdf'}, page_content='BAB II\\nMAJELIS PERMUSYAWARATAN RAKYAT\\nPasal 2\\n(1)Majelis Permusyawaratan Rakyat terdiri atas anggota -anggota Dewan Perwakilan\\nRakyat, ditambah dengan utusan -utusan dari daerah -daerah dan golongan -golongan,\\nmenurut aturan yang ditetapkan dengan undang -undang.\\n(2)Majelis Permusyawaratan Rakyat bersidang sedikitnya sekal i dalam lima tahun di ibu\\nkota negara.\\n(3)Segala putusan Majelis Permusyawaratan Rakyat ditetapkan dengan suara yang\\nterbanyak.\\nPasal 3\\nMajelis Permusyawaratan Rakyat menetapkan Undang -Undang Dasar dan garis -garis\\nbesar daripada haluan negara.\\nBAB III\\nKEKUASAAN PEMERINTAHAN NEGARA\\nPasal 4\\n(1)Presiden Republik Indonesia memegang kekuasaan pemerinta han menurut Undang -\\nUndang Dasar.\\n(2)Dalam melakukan kewajibannya Presiden dibantu oleh satu or ang Wakil Presiden.\\nPasal 5\\n(1)Presiden memegang kekuasaan membentuk undang -undang dengan persetujuan\\nDewan Perwakilan Rakyat.\\n(2)Presiden menetapkan peraturan pemerintah untuk menjalank an undang -undang\\nsebagaimana mestinya.\\nPasal 6\\n(1)Presiden ialah orang Indonesia asli.\\n(2)Presiden dan Wakil Presiden dipilih oleh Majelis Permusyaw aratan Rakyat dengan\\nsuara yang terbanyak.\\nwww.peraturan.go.id')],\n",
       " 'query': 'Human: \\nAnda adalah seorang paralegal hukum AI. Gunakan konteks berikut\\nuntuk menjawab pertanyaan yang diberikan.\\n\\nBAB VI\\nPEMERINTAH DAERAH\\nPasal 18\\nPembagian daerah Indonesia atas daerah be sar dan kecil, dengan bentuk susunan\\npemerintahannya ditetapkan dengan undang -undang, dengan memandang dan\\nmengingati dasar permusyawaratan dalam sistem pemerintah an negara, dan hak -hak\\nasal-usul dalam daerah -daerah yang bersifat istimewa.\\nBAB VII\\nDEWAN PE RWAKILAN RAKYAT\\nPasal 19\\n(1)Susunan Dewan Perwakilan Rakyat ditetapkan dengan undang -undang.\\n(2)Dewan Perwakilan Rakyat bersidang sedikitnya sekali dalam setahun.\\nPasal 20\\n(1)Tiap-tiap undang -undang menghendaki persetujuan Dewan Perwakilan Rakyat.\\n(2)Jika sesuatu rancangan undang -undang tidak mendapat persetujuan Dewan\\nPerwakilan Rakyat, maka rancangan tadi tidak boleh dimajuk an lagi dalam\\npersidangan Dewan Perwakilan Rakyat masa itu.\\nPasal 21\\n(1)Anggota -anggota Dewan Perwakilan Rakyat berhak memaju kan rancangan undang -\\nundang.\\n(2)Jika rancangan itu, meskipun disetujui oleh Dewan Perwakil an Rakyat, tidak disahkan\\noleh Presiden, maka rancangan tadi tidak boleh dimajukan la gi dalam persidangan\\nDewan Perwakilan Rakyat masa itu.\\nPasal 22\\n(1)Dalam hal ihwa l kegentingan yang memaksa, Presiden berhak menetapkan per aturan\\npemerintah sebagai pengganti undang -undang.\\n(2)Peraturan pemerintah itu harus mendapat persetujuan Dewan Perwakilan Rakyat\\ndalam persidangan yang berikut.\\n(3)Jika tidak mendapat persetujuan, maka p eraturan pemerintah itu harus dicabut.\\nwww.peraturan.go.id\\n\\n---\\n\\nUNDANG -UNDANG DASAR NEGARA REPUBLIK INDONESIA\\nTAHUN 1945\\nPEMBUKAAN\\n( P r e a m b u l e )\\nBahwa sesungguhnya kemerdekaan itu ialah hak segala bangsa dan oleh sebab itu,\\nmaka penjajahan di atas dunia harus dihapuskan, karena tida k sesuai dengan peri -\\nkemanusiaan dan peri -keadilan.\\nDan perjuangan pergerakan kemerdekaan Indonesia telah sam pailah kepada saat\\nyang berbahagia dengan selamat sentausa mengantarkan raky at Indonesia ke depan\\npintu gerbang kemerdekaan Negara Indonesia, yang merdeka, bersatu, berdaulat, adil\\ndan makmur.\\nAtas berkat rakhmat Allah Yang Maha Kuasa dan dengan didoron gkan oleh keinginan\\nluhur, supaya berkehidupan kebangsaan yang bebas, maka rak yat Indonesia menyatakan\\ndengan ini kemerdekaannya.\\nKemudian dari pada itu untuk membentuk suatu Pemerintah Neg ara Indonesia yang\\nmelindungi segenap bangsa Indonesia dan seluruh tumpah dar ah Indonesia dan untuk\\nmemaju kan kesejahteraan umum, mencerdaskan kehidupan bangsa, da n ikut\\nmelaksanakan ketertiban dunia yang berdasarkan kemerdeka an, perdamaian abadi dan\\nkeadilan sosial, maka disusunlah Kemerdekaan Kebangsaan I ndonesia itu dalam suatu\\nUndang -Undang Dasar Negara In donesia, yang terbentuk dalam suatu susunan Negara\\nRepublik Indonesia yang berkedaulatan rakyat dengan berda sarkan kepada Ketuhanan\\nYang Maha Esa, Kemanusiaan Yang Adil dan Beradab, Persatuan Indonesia dan\\nK e r a k y a t a n y a n g d i p i m p i n o l e h h i k m a t k e b i j a k s a n a a n d a l a m\\nPermusyawaratan/Perwakilan, serta dengan mewujudkan sua tu Keadilan sosial bagi\\nseluruh rakyat Indonesia.\\nUNDANG -UNDANG DASAR\\nBAB I\\nBENTUK DAN KEDAULATAN\\nPasal 1\\n(1)Negara Indonesia ialah Negara Kesatuan, yang berbentuk Rep ublik.\\n(2)Kedaulatan adalah di tangan rakyat, dan dilakukan sepenuhn ya oleh Majelis\\nPermusyawaratan Rakyat.\\nwww.peraturan.go.id\\n\\n---\\n\\n2015,No.127327\\nwww.peraturan.go.id\\n\\n---\\n\\n2015,No.127326\\nwww.peraturan.go.id\\n\\n---\\n\\nBAB II\\nMAJELIS PERMUSYAWARATAN RAKYAT\\nPasal 2\\n(1)Majelis Permusyawaratan Rakyat terdiri atas anggota -anggota Dewan Perwakilan\\nRakyat, ditambah dengan utusan -utusan dari daerah -daerah dan golongan -golongan,\\nmenurut aturan yang ditetapkan dengan undang -undang.\\n(2)Majelis Permusyawaratan Rakyat bersidang sedikitnya sekal i dalam lima tahun di ibu\\nkota negara.\\n(3)Segala putusan Majelis Permusyawaratan Rakyat ditetapkan dengan suara yang\\nterbanyak.\\nPasal 3\\nMajelis Permusyawaratan Rakyat menetapkan Undang -Undang Dasar dan garis -garis\\nbesar daripada haluan negara.\\nBAB III\\nKEKUASAAN PEMERINTAHAN NEGARA\\nPasal 4\\n(1)Presiden Republik Indonesia memegang kekuasaan pemerinta han menurut Undang -\\nUndang Dasar.\\n(2)Dalam melakukan kewajibannya Presiden dibantu oleh satu or ang Wakil Presiden.\\nPasal 5\\n(1)Presiden memegang kekuasaan membentuk undang -undang dengan persetujuan\\nDewan Perwakilan Rakyat.\\n(2)Presiden menetapkan peraturan pemerintah untuk menjalank an undang -undang\\nsebagaimana mestinya.\\nPasal 6\\n(1)Presiden ialah orang Indonesia asli.\\n(2)Presiden dan Wakil Presiden dipilih oleh Majelis Permusyaw aratan Rakyat dengan\\nsuara yang terbanyak.\\nwww.peraturan.go.id\\n\\n---\\n\\nPertanyaan: Apa saja tugas DPR?\\nJawaban yang anda berikan harus jelas dan minimal terdiri dari 2 paragraf.\\nJika anda tidak tahu jawabannya, cukup jawab dengan \"Maaf, saya tidak tahu\".\\n',\n",
       " 'result': 'Maaf, saya tidak tahu.'}"
      ]
     },
     "execution_count": 20,
     "metadata": {},
     "output_type": "execute_result"
    }
   ],
   "source": [
    "query2 = \"Apa saja tugas DPR?\"\n",
    "\n",
    "get_llm_response(query2)"
   ]
  },
  {
   "cell_type": "code",
   "execution_count": 16,
   "id": "85779db7",
   "metadata": {},
   "outputs": [
    {
     "data": {
      "text/plain": [
       "{'input_documents': [Document(metadata={'page': 77, 'source': '/content/PP/2021/Peraturan Pemerintah Nomor 114 Tahun 20210_fix.pdf'}, page_content='PRESIDEN\\nREPIJBLIK INDONESIA\\nC-D\\nHimne dan Mars UNP\\n1. Himne UNP sebagai berikut:\\nSK No 101198 A2. Mars'),\n",
       "  Document(metadata={'page': 11, 'source': '/content/UU/2015/Undang-Undang Nomor 12 Tahun 20150_fix.pdf'}, page_content='No.5741-12-\\n45.BadanKoordinasiPenanamanModal WTP WTP\\n46.BadanNarkotikaNasional WTP WTP\\n47.KementerianPembangunanDaerah\\nTertinggalWDP WTP\\n48.Badan Kependudukan dan Keluarga\\nBerencanaNasionalWDP WTP\\n49.KomisiNasionalHakAsasiManusia WTP WTP\\n50.BadanMeteorologi,Klimatologi,dan\\nGeofisikaWDP WTP\\n51.KomisiPemilihanUmum WDP WDP\\n52.MahkamahKonstitusi WTP WTP\\n53.PusatPelaporandanAnalisis\\nTransaksiKeuanganWTP WTP\\n54.LembagaIlmuPengetahuanIndonesia WTP WTP\\n55.BadanTenagaNuklirNasional WTP WTP\\n56.BadanPengkaj iandanPenerapan\\nTeknologiWDP WTP\\n57.LembagaPenerbangandanAntariksa\\nNasionalWDP WDP\\n58.BadanInformasiGeospasial TMP TMP\\n59.BadanStandardisasiNasional WTP WTP\\n60.BadanPengawasTenagaNuklir WTP WTP\\n61.LembagaAdmin istrasiNegara WTP WTP\\n62.ArsipNasionalRepublikIndonesia WDP WTP\\n63.BadanKepegawaianNegara WTP WTP\\n64.BadanPengawasanKeuangandan\\nPembangunanWTP WTP\\n65.KementerianPerdagangan WTP WTP\\n66.KementerianPerumahanRakyat WTP WTP\\n67.Kementerian PemudadanOlahRaga WDP WDP\\n68.KomisiPemberantasanKorupsi WTP WTP\\n69.DewanPerwakilanDaerah WTP WTP\\n70.KomisiYudisial WTP WTP\\nwww.peraturan.go.id'),\n",
       "  Document(metadata={'page': 24, 'source': '/content/UU/2022/Undang-Undang Nomor 26 Tahun 20220_fix.pdf'}, page_content='PRESIDEN\\nREPUELIK INDONESIA\\n-12-\\nI\\nt 1.Kementerian Keuangan WTP WTP\\n12. Kementerian Pertanian WTP WTP\\n13. Kementerian Perindustrian WTP WTP\\n14. Kementerian Energi dan Sumber\\nDaya MineralWTP WTP\\n15. Kementerian Perhubungan WTP WTP\\n16. Kementerian Pendidikan, WTP WTP\\nKebudayaan, Riset dan rl\\n17. Kementerian Kesehatan WTP WTP\\n18. Kementerian Agama WTP WTP\\n19. Kementerian Ketenagakerjaan WTP WDP\\n20. Kementerian Sosial WDP WTP\\n21. Kementerian Lingkungan Hidup dan\\nKehutananWTP WTP\\n22 Kementerian Kelautan dan\\nPerikananWDP WTP\\n23. Kementerian Pekerjaan Umum dan\\nPerumahan Ra$atWTP WTP\\n24 Kementerian Koordinator WTP WTP\\nPolitik, Hukum, dan Keamanan\\n25. Kementerian Koordinator Bidang\\nPerekonomianWTP WTP\\nKementerian Koordinator Bidang\\nPembangunan Manusia dan\\nKebudayaanWTP WTP\\nKementerian Pariwisata darr\\nEkonomi KreatifWTP WTP\\nKementerian\\nNegaraBadan Usaha Milik WTP WTP\\nBadan Riset dan Inovasi Nasionaltl WTP WDP\\nKementerian Koperasi dan Usaha\\nKecil dan MenengahWTP WTP26\\n27.\\n2a\\n29\\n30.\\n3l.Kementerian...\\nSK No 156l19A'),\n",
       "  Document(metadata={'page': 26, 'source': '/content/UU/2022/Undang-Undang Nomor 26 Tahun 20220_fix.pdf'}, page_content='PRESTDEN\\nREPUBLIK INDONESIA\\n-14-\\ntr Dcatcrlr!/Irnbege\\n48. Komisi Nasional Hak Asasi Manusia,I.V\\\\l\\nWTP WTP\\nBadan Meteorologi, Klimatologi, dan\\nGeofrsikaWTP WTP\\nKomisi Pemilihan Umum WTP WTP\\nMahkamah Konstitusi WTP\\nRrsat Pelaporan dan Analisis\\nTransaksi KeuanganWTP WTP\\n53 kmbaga llmu\\nIndonesiaWTP WDP\\n54 Badan Tenaga Nuklir Nasional WTP WTP\\n55\\n56Badan Pengkajian dan Penerapan\\nTeknologiWTP WTP\\nLembaga Penerbangan dan\\nAntariksa NasiondWTP WTP\\n57 Badan Informasi Geospasial WTP WTP\\n58 Badan Standardisasi Nasional WTP WTP\\n59 Badan Pengawas Tenaga Nuklir WTP WTP\\n60 kmbaga Administrasi Negara WTP WTP\\n61. Arsip Nasional Republik Indonesia WTP WTP\\n62. Badan Kepegawaian Negara WTP WTP\\nBadan Pengawasan Keuangan dan\\nPembangunanWTP WTP\\nKemetrterian Perdagangan WTP WDP\\nKementerian Pemuda dan Olah\\nRagaWTP WTP\\n66 Komisi Pernberantasan Korupsi WTP\\n67. Dewan Perwakilan Daerah WTP\\n68 Komisi Yudisial WTP\\n69 Badan Nasional\\nBencanaWTP\\nSK No l56142A7O. Badan'),\n",
       "  Document(metadata={'page': 28, 'source': '/content/PP/2018/Peraturan Pemerintah Nomor 39 Tahun 20180_fix.pdf'}, page_content='2018, No. 144 -29- \\n2. Medali Kejayaan; dan \\n3. Medali Perdamaian. \\nb. Tanda Kehormatan Bintang terdiri dari Bintang \\nSipil dan Bintang Militer: \\n1. Tanda Kehormatan Bintang Sipil:  \\na) Bintang Republik Indonesia; \\nb) Bintang Mahaputera; \\nc) Bintang Jasa; \\nd) Bintang Kemanusiaan; \\ne) Bintang Penegak Demokrasi; dan \\nf) Bintang Bhayangkara. \\n2. Tanda Kehormatan Bintang Militer: \\na) Bintang Yudha Dharma; \\nb) Bintang Kartika Eka Pakçi; \\nc) Bintang Jalasena; dan \\nd) Bintang Swa Bhuwana Paksa. \\n(2) Tanda Jasa atau Tanda Kehormatan sebagaimana \\ndimaksud pada ayat (1) diberikan kepada Warga \\nNegara Asing harus memenuhi:  \\na. kesetaraan hubungan timbal balik kenegaraan; \\ndan/atau \\nb. berjasa besar pada bangsa dan negara Indonesia.  \\n(3) Warga Negara Asing sebagaimana dimaksud pada ayat \\n(2), yaitu: \\na. Kepala Negara atau Kepala Pemerintahan Negara \\nAsing; \\nb. Duta Besar LBBP/Kepala Perwakilan Negara \\nAsing untuk Republik Indonesia; dan \\nc. Panglima atau Kepala Staf Angkatan Bersenjata \\ndan/atau Kepala Kepolisian Negara Asing. \\n \\nPasal 38 \\n(1) Perwakilan Republik Indonesia di luar negeri dapat \\nmengusulkan Warga Negara Asing lainnya untuk \\ndiberikan tanda jasa atau tanda kehormatan melalui \\nkementerian yang menyelenggarakan urusan \\npemerintahan di bidang luar negeri dengan \\nwww.peraturan.go.id')],\n",
       " 'query': 'Human: \\nAnda adalah seorang paralegal hukum AI. Gunakan konteks berikut\\nuntuk menjawab pertanyaan yang diberikan.\\n\\nPRESIDEN\\nREPIJBLIK INDONESIA\\nC-D\\nHimne dan Mars UNP\\n1. Himne UNP sebagai berikut:\\nSK No 101198 A2. Mars\\n\\n---\\n\\nNo.5741-12-\\n45.BadanKoordinasiPenanamanModal WTP WTP\\n46.BadanNarkotikaNasional WTP WTP\\n47.KementerianPembangunanDaerah\\nTertinggalWDP WTP\\n48.Badan Kependudukan dan Keluarga\\nBerencanaNasionalWDP WTP\\n49.KomisiNasionalHakAsasiManusia WTP WTP\\n50.BadanMeteorologi,Klimatologi,dan\\nGeofisikaWDP WTP\\n51.KomisiPemilihanUmum WDP WDP\\n52.MahkamahKonstitusi WTP WTP\\n53.PusatPelaporandanAnalisis\\nTransaksiKeuanganWTP WTP\\n54.LembagaIlmuPengetahuanIndonesia WTP WTP\\n55.BadanTenagaNuklirNasional WTP WTP\\n56.BadanPengkaj iandanPenerapan\\nTeknologiWDP WTP\\n57.LembagaPenerbangandanAntariksa\\nNasionalWDP WDP\\n58.BadanInformasiGeospasial TMP TMP\\n59.BadanStandardisasiNasional WTP WTP\\n60.BadanPengawasTenagaNuklir WTP WTP\\n61.LembagaAdmin istrasiNegara WTP WTP\\n62.ArsipNasionalRepublikIndonesia WDP WTP\\n63.BadanKepegawaianNegara WTP WTP\\n64.BadanPengawasanKeuangandan\\nPembangunanWTP WTP\\n65.KementerianPerdagangan WTP WTP\\n66.KementerianPerumahanRakyat WTP WTP\\n67.Kementerian PemudadanOlahRaga WDP WDP\\n68.KomisiPemberantasanKorupsi WTP WTP\\n69.DewanPerwakilanDaerah WTP WTP\\n70.KomisiYudisial WTP WTP\\nwww.peraturan.go.id\\n\\n---\\n\\nPRESIDEN\\nREPUELIK INDONESIA\\n-12-\\nI\\nt 1.Kementerian Keuangan WTP WTP\\n12. Kementerian Pertanian WTP WTP\\n13. Kementerian Perindustrian WTP WTP\\n14. Kementerian Energi dan Sumber\\nDaya MineralWTP WTP\\n15. Kementerian Perhubungan WTP WTP\\n16. Kementerian Pendidikan, WTP WTP\\nKebudayaan, Riset dan rl\\n17. Kementerian Kesehatan WTP WTP\\n18. Kementerian Agama WTP WTP\\n19. Kementerian Ketenagakerjaan WTP WDP\\n20. Kementerian Sosial WDP WTP\\n21. Kementerian Lingkungan Hidup dan\\nKehutananWTP WTP\\n22 Kementerian Kelautan dan\\nPerikananWDP WTP\\n23. Kementerian Pekerjaan Umum dan\\nPerumahan Ra$atWTP WTP\\n24 Kementerian Koordinator WTP WTP\\nPolitik, Hukum, dan Keamanan\\n25. Kementerian Koordinator Bidang\\nPerekonomianWTP WTP\\nKementerian Koordinator Bidang\\nPembangunan Manusia dan\\nKebudayaanWTP WTP\\nKementerian Pariwisata darr\\nEkonomi KreatifWTP WTP\\nKementerian\\nNegaraBadan Usaha Milik WTP WTP\\nBadan Riset dan Inovasi Nasionaltl WTP WDP\\nKementerian Koperasi dan Usaha\\nKecil dan MenengahWTP WTP26\\n27.\\n2a\\n29\\n30.\\n3l.Kementerian...\\nSK No 156l19A\\n\\n---\\n\\nPRESTDEN\\nREPUBLIK INDONESIA\\n-14-\\ntr Dcatcrlr!/Irnbege\\n48. Komisi Nasional Hak Asasi Manusia,I.V\\\\l\\nWTP WTP\\nBadan Meteorologi, Klimatologi, dan\\nGeofrsikaWTP WTP\\nKomisi Pemilihan Umum WTP WTP\\nMahkamah Konstitusi WTP\\nRrsat Pelaporan dan Analisis\\nTransaksi KeuanganWTP WTP\\n53 kmbaga llmu\\nIndonesiaWTP WDP\\n54 Badan Tenaga Nuklir Nasional WTP WTP\\n55\\n56Badan Pengkajian dan Penerapan\\nTeknologiWTP WTP\\nLembaga Penerbangan dan\\nAntariksa NasiondWTP WTP\\n57 Badan Informasi Geospasial WTP WTP\\n58 Badan Standardisasi Nasional WTP WTP\\n59 Badan Pengawas Tenaga Nuklir WTP WTP\\n60 kmbaga Administrasi Negara WTP WTP\\n61. Arsip Nasional Republik Indonesia WTP WTP\\n62. Badan Kepegawaian Negara WTP WTP\\nBadan Pengawasan Keuangan dan\\nPembangunanWTP WTP\\nKemetrterian Perdagangan WTP WDP\\nKementerian Pemuda dan Olah\\nRagaWTP WTP\\n66 Komisi Pernberantasan Korupsi WTP\\n67. Dewan Perwakilan Daerah WTP\\n68 Komisi Yudisial WTP\\n69 Badan Nasional\\nBencanaWTP\\nSK No l56142A7O. Badan\\n\\n---\\n\\n2018, No. 144 -29- \\n2. Medali Kejayaan; dan \\n3. Medali Perdamaian. \\nb. Tanda Kehormatan Bintang terdiri dari Bintang \\nSipil dan Bintang Militer: \\n1. Tanda Kehormatan Bintang Sipil:  \\na) Bintang Republik Indonesia; \\nb) Bintang Mahaputera; \\nc) Bintang Jasa; \\nd) Bintang Kemanusiaan; \\ne) Bintang Penegak Demokrasi; dan \\nf) Bintang Bhayangkara. \\n2. Tanda Kehormatan Bintang Militer: \\na) Bintang Yudha Dharma; \\nb) Bintang Kartika Eka Pakçi; \\nc) Bintang Jalasena; dan \\nd) Bintang Swa Bhuwana Paksa. \\n(2) Tanda Jasa atau Tanda Kehormatan sebagaimana \\ndimaksud pada ayat (1) diberikan kepada Warga \\nNegara Asing harus memenuhi:  \\na. kesetaraan hubungan timbal balik kenegaraan; \\ndan/atau \\nb. berjasa besar pada bangsa dan negara Indonesia.  \\n(3) Warga Negara Asing sebagaimana dimaksud pada ayat \\n(2), yaitu: \\na. Kepala Negara atau Kepala Pemerintahan Negara \\nAsing; \\nb. Duta Besar LBBP/Kepala Perwakilan Negara \\nAsing untuk Republik Indonesia; dan \\nc. Panglima atau Kepala Staf Angkatan Bersenjata \\ndan/atau Kepala Kepolisian Negara Asing. \\n \\nPasal 38 \\n(1) Perwakilan Republik Indonesia di luar negeri dapat \\nmengusulkan Warga Negara Asing lainnya untuk \\ndiberikan tanda jasa atau tanda kehormatan melalui \\nkementerian yang menyelenggarakan urusan \\npemerintahan di bidang luar negeri dengan \\nwww.peraturan.go.id\\n\\n---\\n\\nPertanyaan: Siapa kiper terbaik timnas Indonesia sepanjang masa?\\nJawaban yang anda berikan harus jelas dan minimal terdiri dari 2 paragraf.\\nJika anda tidak tahu jawabannya, cukup jawab dengan \"Maaf, saya tidak tahu\".\\n',\n",
       " 'result': 'Maaf, saya tidak tahu.'}"
      ]
     },
     "execution_count": 16,
     "metadata": {},
     "output_type": "execute_result"
    }
   ],
   "source": [
    "query3 = \"Siapa kiper terbaik timnas Indonesia sepanjang masa?\"\n",
    "\n",
    "get_llm_response(query3)"
   ]
  },
  {
   "cell_type": "code",
   "execution_count": null,
   "id": "f55d7bf4",
   "metadata": {},
   "outputs": [],
   "source": []
  }
 ],
 "metadata": {
  "kernelspec": {
   "display_name": "Python 3 (ipykernel)",
   "language": "python",
   "name": "python3"
  },
  "language_info": {
   "codemirror_mode": {
    "name": "ipython",
    "version": 3
   },
   "file_extension": ".py",
   "mimetype": "text/x-python",
   "name": "python",
   "nbconvert_exporter": "python",
   "pygments_lexer": "ipython3",
   "version": "3.10.12"
  }
 },
 "nbformat": 4,
 "nbformat_minor": 5
}
